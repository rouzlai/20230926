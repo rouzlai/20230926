{
  "nbformat": 4,
  "nbformat_minor": 0,
  "metadata": {
    "colab": {
      "provenance": []
    },
    "kernelspec": {
      "name": "python3",
      "display_name": "Python 3"
    },
    "language_info": {
      "name": "python"
    }
  },
  "cells": [
    {
      "cell_type": "code",
      "execution_count": 1,
      "metadata": {
        "colab": {
          "base_uri": "https://localhost:8080/"
        },
        "id": "3E6YSADv-Gt-",
        "outputId": "287a658c-1e84-45b3-8f6d-94f03a9cd897"
      },
      "outputs": [
        {
          "output_type": "stream",
          "name": "stdout",
          "text": [
            "I'm a student.\n"
          ]
        }
      ],
      "source": [
        "print(\"I'm a student.\")"
      ]
    },
    {
      "cell_type": "code",
      "source": [
        "x1=int(input(\"請輸入A點的x坐標：\"))\n",
        "y1=int(input(\"請輸入A點的y坐標：\"))\n",
        "x2=int(input(\"請輸入B點的x坐標：\"))\n",
        "y2=int(input(\"請輸入B點的y坐標：\"))\n",
        "print(((x1-x2)**2+(y1-y2)**2)**0.5)"
      ],
      "metadata": {
        "colab": {
          "base_uri": "https://localhost:8080/"
        },
        "id": "_WWe-8Iq-uo_",
        "outputId": "6f4ecca4-deb1-4818-de7a-8cdf71529149"
      },
      "execution_count": 2,
      "outputs": [
        {
          "output_type": "stream",
          "name": "stdout",
          "text": [
            "請輸入A點的x坐標：3\n",
            "請輸入A點的y坐標：0\n",
            "請輸入B點的x坐標：0\n",
            "請輸入B點的y坐標：4\n",
            "5.0\n"
          ]
        }
      ]
    },
    {
      "cell_type": "code",
      "source": [
        "h=float(input(\"請輸入您的身高（公分）：\"))\n",
        "w=float(input(\"請輸入您的體重（公斤）：\"))\n",
        "w/=h/100\n",
        "w/=h/100\n",
        "print(\"您的BMI為\",w)\n",
        "print(int(w<18.5))"
      ],
      "metadata": {
        "colab": {
          "base_uri": "https://localhost:8080/"
        },
        "id": "m5lbSfpL_5uk",
        "outputId": "3ed5cf77-6f34-4907-f7ce-fb3e80a502e6"
      },
      "execution_count": 4,
      "outputs": [
        {
          "output_type": "stream",
          "name": "stdout",
          "text": [
            "請輸入您的身高（公分）：160\n",
            "請輸入您的體重（公斤）：50\n",
            "您的BMI為 19.53125\n",
            "0\n"
          ]
        }
      ]
    }
  ]
}